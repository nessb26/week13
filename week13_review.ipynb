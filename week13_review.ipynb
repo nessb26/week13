{
  "nbformat": 4,
  "nbformat_minor": 0,
  "metadata": {
    "colab": {
      "provenance": []
    },
    "kernelspec": {
      "name": "python3",
      "display_name": "Python 3"
    },
    "language_info": {
      "name": "python"
    }
  },
  "cells": [
    {
      "cell_type": "markdown",
      "source": [
        "Name: Nessim BOUALLAI\n",
        "Date: 05/12/2023\n",
        "Course Path: PYALGO"
      ],
      "metadata": {
        "id": "arZNujjKSGCo"
      }
    },
    {
      "cell_type": "markdown",
      "source": [
        "# current understanding of central topics and tools\n",
        "Developped an understanding of the global structure of a trading algorithm. I spent some time experimenting on feature selection techniques as well as data filtering to extract signals (not for this week13 project but more generally for the final project).
         The model used for this week13 project is a bit too simplistic and did not allow to get a good accuracy on the testing set. Additional features would be needed such as other prices series or fundamental data (for instance using stock price data or interest rates)."
      ],
      "metadata": {
        "id": "gyDxuHu3SCYb"
      }
    },
    {
      "cell_type": "markdown",
      "source": [
        "# strengths and weaknesses as discovered during the week\n",
        "strengths: I am relatively comfortable with the data preparation phase, the cross validation technique applied to Time Series (avoiding forward looking bias), the choice of model within the sklearn universe and the backtest phase.\n",
        "\n",
        "I need to improve in the following areas:\n",
        "-IT/Infrastructure: to have the algo run in the cloud instead of on the local machine.\n",
        "-model calibration (for classification) to ensure that the predict_proba function returns calibrated probabilities -> this is I think necessry to have a model trade only if we have the probability is high enough."
      ],
      "metadata": {
        "id": "ox4m_b5PTJrR"
      }
    },
    {
      "cell_type": "markdown",
      "source": [
        "# your experiences in doing it on your own\n",
        "I anticipated initially to just work on the modelling part only but realised that the execution automation is possible to code. I would like now to learn more about running the algos in the cloud.\n",
        "\n",
        "the simple algo I coded hilighted the issue of over fitting (by modifying the selected features, changing the model, the time period etc...) so that a good fit on both the training et testing set may not result in a good live strategy.\n"
      ],
      "metadata": {
        "id": "tvgQS2tlUPgP"
      }
    },
    {
      "cell_type": "markdown",
      "source": [],
      "metadata": {
        "id": "mUqzvmPuayYH"
      }
    },
    {
      "cell_type": "markdown",
      "source": [
        "# opportunities to improve the existing materials and resources\n",
        "I would like the following topics to be covered:\n",
        "-conformal prediction\n",
        "-probability calibration\n",
        "-more about feature selection techniques.\n",
        "-regarding the execution of algos, how to incorporate live data from different sources (not just oanda for instance) in order to generate orders.\n",
        "-regarding the model fitting: how to deal with asynchroneous data - for instance how to include weekly data in a model which is based on daily data."
      ],
      "metadata": {
        "id": "LF55vKooaO89"
      }
    }
  ]
}
