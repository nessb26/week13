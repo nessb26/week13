{
  "nbformat": 4,
  "nbformat_minor": 0,
  "metadata": {
    "colab": {
      "provenance": [],
      "authorship_tag": "ABX9TyNlSnbt0PZwgOftY+CCgPzG",
      "include_colab_link": true
    },
    "kernelspec": {
      "name": "python3",
      "display_name": "Python 3"
    },
    "language_info": {
      "name": "python"
    }
  },
  "cells": [
    {
      "cell_type": "markdown",
      "metadata": {
        "id": "view-in-github",
        "colab_type": "text"
      },
      "source": [
        "<a href=\"https://colab.research.google.com/github/nessb26/week13/blob/main/week13_review.ipynb\" target=\"_parent\"><img src=\"https://colab.research.google.com/assets/colab-badge.svg\" alt=\"Open In Colab\"/></a>"
      ]
    },
    {
      "cell_type": "markdown",
      "source": [
        "Name: Nessim BOUALLAI\n",
        "Date: 05/12/2023\n",
        "Course Path: PYALGO"
      ],
      "metadata": {
        "id": "arZNujjKSGCo"
      }
    },
    {
      "cell_type": "markdown",
      "source": [
        "# current understanding of central topics and tools\n",
        "Developped a global understanding of a trading algorithm structure.\n",
        "I spent some time experimenting on feature selection techniques as well as data filtering to extract signals, this is the most time consuming part.\n",
        "\n",
        "Regarding specifically this week13 projet, the mode was too simple to achieve a good accuracy on the testing set. Additional features would be needed such as other prices series or fundamental data (for instance using stock price data or interest rates)."
      ],
      "metadata": {
        "id": "gyDxuHu3SCYb"
      }
    },
    {
      "cell_type": "markdown",
      "source": [
        "# strengths and weaknesses as discovered during the week\n",
        "**strengths**: I am now relatively comfortable with the data preparation phase, the cross validation techniques applied to Time Series (avoiding forward looking bias), the choice of model within the sklearn universe and the backtest phase.\n",
        "\n",
        "**Weakness**: I need to improve in the following areas:\n",
        "*   **IT/Infrastructure**: I have not yet run an algo in the cloud.\n",
        "*   **model calibration** (for classification) to ensure that the predict_proba function returns calibrated probability: This is I think necessary in order to improve the model and trade only if we have a high enough probability of certainty. I started to implement such techniques outside of the scope of this week13 project and had noticed an accuracy improvement.\n",
        "\n",
        "\n"
      ],
      "metadata": {
        "id": "ox4m_b5PTJrR"
      }
    },
    {
      "cell_type": "markdown",
      "source": [],
      "metadata": {
        "id": "eboVJ0FKjiD9"
      }
    },
    {
      "cell_type": "markdown",
      "source": [
        "# your experiences in doing it on your own\n",
        "I anticipated initially to just work on the modelling part only but realised that the execution automation is possible to code. I would like now to learn more about running the algos in the cloud.\n",
        "\n",
        "the simple algo I coded hilighted the issue of over fitting (by modifying the selected features, changing the model, the time period etc...) so that a good fit on both the training et testing set may not result in a good live strategy.\n"
      ],
      "metadata": {
        "id": "tvgQS2tlUPgP"
      }
    },
    {
      "cell_type": "markdown",
      "source": [],
      "metadata": {
        "id": "mUqzvmPuayYH"
      }
    },
    {
      "cell_type": "markdown",
      "source": [
        "# opportunities to improve the existing materials and resources\n",
        "I would like the following topics to be covered:\n",
        "\n",
        "\n",
        "*   conformal prediction\n",
        "*   probability calibration\n",
        "*   more about feature selection techniques (that are efficient in financial time series)\n",
        "*   trading algo execution: how to incorporate live data from different sources (not just oanda for instance) in order to generate orders.\n",
        "*   model fit: how to deal with asynchroneous data - for instance how to include weekly data in a model which is based on daily data."
      ],
      "metadata": {
        "id": "LF55vKooaO89"
      }
    }
  ]
}